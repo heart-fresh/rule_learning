{
 "cells": [
  {
   "cell_type": "code",
   "execution_count": 7,
   "metadata": {},
   "outputs": [],
   "source": [
    "import pandas as pd\n",
    "df = pd.read_csv('extracted_163.csv')"
   ]
  },
  {
   "cell_type": "code",
   "execution_count": 10,
   "metadata": {},
   "outputs": [
    {
     "data": {
      "text/html": [
       "<div>\n",
       "<style scoped>\n",
       "    .dataframe tbody tr th:only-of-type {\n",
       "        vertical-align: middle;\n",
       "    }\n",
       "\n",
       "    .dataframe tbody tr th {\n",
       "        vertical-align: top;\n",
       "    }\n",
       "\n",
       "    .dataframe thead th {\n",
       "        text-align: right;\n",
       "    }\n",
       "</style>\n",
       "<table border=\"1\" class=\"dataframe\">\n",
       "  <thead>\n",
       "    <tr style=\"text-align: right;\">\n",
       "      <th></th>\n",
       "      <th>Name</th>\n",
       "      <th>Text</th>\n",
       "    </tr>\n",
       "  </thead>\n",
       "  <tbody>\n",
       "    <tr>\n",
       "      <th>0</th>\n",
       "      <td>Sahwit</td>\n",
       "      <td>I went to a nearby park and found a public phone.</td>\n",
       "    </tr>\n",
       "    <tr>\n",
       "      <th>1</th>\n",
       "      <td>Phoenix</td>\n",
       "      <td>Why use a public phone?</td>\n",
       "    </tr>\n",
       "    <tr>\n",
       "      <th>2</th>\n",
       "      <td>Sahwit</td>\n",
       "      <td>Well, you see, I don't have a cell phone. And,...</td>\n",
       "    </tr>\n",
       "    <tr>\n",
       "      <th>3</th>\n",
       "      <td>Phoenix</td>\n",
       "      <td>Ah, right... what time did you call again?</td>\n",
       "    </tr>\n",
       "    <tr>\n",
       "      <th>4</th>\n",
       "      <td>Sahwit</td>\n",
       "      <td>I remember the time exactly: It was 1:00 PM.</td>\n",
       "    </tr>\n",
       "    <tr>\n",
       "      <th>5</th>\n",
       "      <td>Phoenix</td>\n",
       "      <td>Holdit.gif</td>\n",
       "    </tr>\n",
       "    <tr>\n",
       "      <th>6</th>\n",
       "      <td>Phoenix</td>\n",
       "      <td>1:00 PM! Are you certain?</td>\n",
       "    </tr>\n",
       "    <tr>\n",
       "      <th>7</th>\n",
       "      <td>Sahwit</td>\n",
       "      <td>Yes. Absolutely.</td>\n",
       "    </tr>\n",
       "    <tr>\n",
       "      <th>8</th>\n",
       "      <td>Phoenix</td>\n",
       "      <td>(Hmm... He seems really confident.)</td>\n",
       "    </tr>\n",
       "    <tr>\n",
       "      <th>9</th>\n",
       "      <td>Mia</td>\n",
       "      <td>1:00 PM? Wright. Doesn't that seem strange to ...</td>\n",
       "    </tr>\n",
       "    <tr>\n",
       "      <th>10</th>\n",
       "      <td>Phoenix</td>\n",
       "      <td>Objection.gif</td>\n",
       "    </tr>\n",
       "    <tr>\n",
       "      <th>11</th>\n",
       "      <td>Phoenix</td>\n",
       "      <td>You found the body at 1:00 PM. You're sure?</td>\n",
       "    </tr>\n",
       "    <tr>\n",
       "      <th>12</th>\n",
       "      <td>Sahwit</td>\n",
       "      <td>Yes. It was 1:00 PM, for certain.</td>\n",
       "    </tr>\n",
       "    <tr>\n",
       "      <th>13</th>\n",
       "      <td>Phoenix</td>\n",
       "      <td>Frankly, I find that hard to believe! Your sta...</td>\n",
       "    </tr>\n",
       "    <tr>\n",
       "      <th>14</th>\n",
       "      <td>Sahwit</td>\n",
       "      <td>!!! Oh, that! Oh, er...</td>\n",
       "    </tr>\n",
       "    <tr>\n",
       "      <th>15</th>\n",
       "      <td>Payne</td>\n",
       "      <td>Objection.gif</td>\n",
       "    </tr>\n",
       "    <tr>\n",
       "      <th>16</th>\n",
       "      <td>Payne</td>\n",
       "      <td>This is trivial! The witness merely forgot the...</td>\n",
       "    </tr>\n",
       "    <tr>\n",
       "      <th>17</th>\n",
       "      <td>Judge</td>\n",
       "      <td>After his testimony, I find that hard to belie...</td>\n",
       "    </tr>\n",
       "    <tr>\n",
       "      <th>18</th>\n",
       "      <td>Sahwit</td>\n",
       "      <td>I.. er... well, I... Gee, that's a really good...</td>\n",
       "    </tr>\n",
       "    <tr>\n",
       "      <th>19</th>\n",
       "      <td>Mia</td>\n",
       "      <td>Great job, Wright! Way to put him on the spot!...</td>\n",
       "    </tr>\n",
       "    <tr>\n",
       "      <th>20</th>\n",
       "      <td>Sahwit</td>\n",
       "      <td>Wait! I remember now!</td>\n",
       "    </tr>\n",
       "  </tbody>\n",
       "</table>\n",
       "</div>"
      ],
      "text/plain": [
       "       Name                                               Text\n",
       "0    Sahwit  I went to a nearby park and found a public phone.\n",
       "1   Phoenix                            Why use a public phone?\n",
       "2    Sahwit  Well, you see, I don't have a cell phone. And,...\n",
       "3   Phoenix         Ah, right... what time did you call again?\n",
       "4    Sahwit       I remember the time exactly: It was 1:00 PM.\n",
       "5   Phoenix                                         Holdit.gif\n",
       "6   Phoenix                          1:00 PM! Are you certain?\n",
       "7    Sahwit                                   Yes. Absolutely.\n",
       "8   Phoenix                (Hmm... He seems really confident.)\n",
       "9       Mia  1:00 PM? Wright. Doesn't that seem strange to ...\n",
       "10  Phoenix                                      Objection.gif\n",
       "11  Phoenix        You found the body at 1:00 PM. You're sure?\n",
       "12   Sahwit                  Yes. It was 1:00 PM, for certain.\n",
       "13  Phoenix  Frankly, I find that hard to believe! Your sta...\n",
       "14   Sahwit                            !!! Oh, that! Oh, er...\n",
       "15    Payne                                      Objection.gif\n",
       "16    Payne  This is trivial! The witness merely forgot the...\n",
       "17    Judge  After his testimony, I find that hard to belie...\n",
       "18   Sahwit  I.. er... well, I... Gee, that's a really good...\n",
       "19      Mia  Great job, Wright! Way to put him on the spot!...\n",
       "20   Sahwit                              Wait! I remember now!"
      ]
     },
     "execution_count": 10,
     "metadata": {},
     "output_type": "execute_result"
    }
   ],
   "source": [
    "df"
   ]
  },
  {
   "cell_type": "code",
   "execution_count": 9,
   "metadata": {},
   "outputs": [
    {
     "data": {
      "text/plain": [
       "'More'"
      ]
     },
     "execution_count": 9,
     "metadata": {},
     "output_type": "execute_result"
    }
   ],
   "source": [
    "import re\n",
    "\n",
    "def find_question_words(df, indexs): #提问\n",
    "    question_words = [\"how\", \"what\", \"why\", \"where\", \"when\", \"who\", \"whom\", \"which\", \"whose\"]\n",
    "    happen_list = []\n",
    "    \n",
    "    for i in indexs:\n",
    "        if df.Name[i] == 'Phoenix':\n",
    "            # 构建正则表达式模式以匹配 question_words 列表中的任何一个单词\n",
    "            word = re.findall(r'\\b(' + '|'.join(question_words) + r')\\b', df.Text[i], re.IGNORECASE)\n",
    "            happen_list = happen_list + word\n",
    "    \n",
    "    if len(happen_list) == 0:\n",
    "        return 'Null'\n",
    "    elif len(happen_list) == 1:\n",
    "        return happen_list[0]\n",
    "    else:\n",
    "        return \"More\"\n",
    "\n",
    "find_question_words(df,range(10))\n"
   ]
  },
  {
   "cell_type": "code",
   "execution_count": 13,
   "metadata": {},
   "outputs": [],
   "source": [
    "k= re.findall(r'\\b(how|what|why|where|when)\\b', df.Text[1], re.IGNORECASE)"
   ]
  },
  {
   "cell_type": "code",
   "execution_count": 14,
   "metadata": {},
   "outputs": [
    {
     "data": {
      "text/plain": [
       "'Why'"
      ]
     },
     "execution_count": 14,
     "metadata": {},
     "output_type": "execute_result"
    }
   ],
   "source": [
    "k[0]"
   ]
  },
  {
   "cell_type": "code",
   "execution_count": 4,
   "metadata": {},
   "outputs": [],
   "source": [
    "def find_question_words(df, indexs):\n",
    "    happen_list = []\n",
    "    for i in indexs:\n",
    "        if df.Name[i] == 'Phoenix':\n",
    "            word = re.findall(r'\\b(how|what|why|where|when)\\b', df.Text[i], re.IGNORECASE)\n",
    "            happen_list = happen_list + word\n",
    "    if len(happen_list) == 0:\n",
    "        return 'Null'\n",
    "    elif len(happen_list) == 1:\n",
    "        return happen_list[0]\n",
    "    else:\n",
    "        return \"More\"\n",
    "\n"
   ]
  },
  {
   "cell_type": "code",
   "execution_count": 5,
   "metadata": {},
   "outputs": [
    {
     "data": {
      "text/plain": [
       "'More'"
      ]
     },
     "execution_count": 5,
     "metadata": {},
     "output_type": "execute_result"
    }
   ],
   "source": [
    "find_question_words(df,range(10))"
   ]
  },
  {
   "cell_type": "code",
   "execution_count": 6,
   "metadata": {},
   "outputs": [
    {
     "data": {
      "text/plain": [
       "'How'"
      ]
     },
     "execution_count": 6,
     "metadata": {},
     "output_type": "execute_result"
    }
   ],
   "source": [
    "find_question_words(df,range(11,21))"
   ]
  },
  {
   "cell_type": "code",
   "execution_count": 7,
   "metadata": {},
   "outputs": [
    {
     "data": {
      "text/plain": [
       "'Exist'"
      ]
     },
     "execution_count": 7,
     "metadata": {},
     "output_type": "execute_result"
    }
   ],
   "source": [
    "def find_gif(df, indexs):\n",
    "    happen_list = []\n",
    "    for i in indexs:\n",
    "        if df.Name[i] == 'Phoenix':\n",
    "            word = re.findall(r'\\b\\w+\\.gif\\b', df.Text[i], re.IGNORECASE)\n",
    "            happen_list = happen_list + word\n",
    "    if len(happen_list) == 0:\n",
    "        return 'Null'\n",
    "    else:\n",
    "        return 'Exist'\n",
    "\n",
    "find_gif(df,range(10))\n"
   ]
  },
  {
   "cell_type": "code",
   "execution_count": 8,
   "metadata": {},
   "outputs": [
    {
     "data": {
      "text/plain": [
       "'Null'"
      ]
     },
     "execution_count": 8,
     "metadata": {},
     "output_type": "execute_result"
    }
   ],
   "source": [
    "find_gif(df,range(11,21))"
   ]
  },
  {
   "cell_type": "code",
   "execution_count": 9,
   "metadata": {},
   "outputs": [
    {
     "data": {
      "text/plain": [
       "True"
      ]
     },
     "execution_count": 9,
     "metadata": {},
     "output_type": "execute_result"
    }
   ],
   "source": [
    "def find_parentheses(df, indexs): # 注意括号里的内容需要丢弃\n",
    "    happen_list = []\n",
    "    for i in indexs:\n",
    "        if df.Name[i] == 'Phoenix':\n",
    "            word = re.findall(r'\\([^()]*\\)', df.Text[i], re.IGNORECASE)\n",
    "            happen_list = happen_list + word\n",
    "    return bool(happen_list)\n",
    "\n",
    "find_parentheses(df,range(10))"
   ]
  },
  {
   "cell_type": "code",
   "execution_count": 39,
   "metadata": {},
   "outputs": [
    {
     "data": {
      "text/plain": [
       "False"
      ]
     },
     "execution_count": 39,
     "metadata": {},
     "output_type": "execute_result"
    }
   ],
   "source": [
    "find_parentheses(df,range(11,21))"
   ]
  },
  {
   "cell_type": "code",
   "execution_count": 10,
   "metadata": {},
   "outputs": [
    {
     "data": {
      "text/plain": [
       "'Exist'"
      ]
     },
     "execution_count": 10,
     "metadata": {},
     "output_type": "execute_result"
    }
   ],
   "source": [
    "def find_judge(df, indexs): # 注意括号里的内容需要丢弃\n",
    "    happen_list = []\n",
    "    for i in indexs:\n",
    "        if df.Name[i] == 'Judge':\n",
    "            return 'Exist'\n",
    "    return 'Null'\n",
    "\n",
    "find_judge(df,range(df.shape[0]))"
   ]
  },
  {
   "cell_type": "code",
   "execution_count": 4,
   "metadata": {},
   "outputs": [
    {
     "name": "stdout",
     "output_type": "stream",
     "text": [
      "Found phrases:\n",
      "Wasn't it\n",
      "Didn't you\n",
      "Wouldn't it\n"
     ]
    }
   ],
   "source": [
    "import re\n",
    "\n",
    "# 定义要检查的文本\n",
    "text = \"\"\"\n",
    "Wasn't it a great day? I thought it was. Didn't you enjoy it? Wouldn't it be amazing if we could do it again?\n",
    "\"\"\"\n",
    "\n",
    "# 定义要匹配的元素列表\n",
    "negatives_with_pronouns = [  #反问\n",
    "    \"Wasn't it\",\"Aren't you\",\"Didn't you\",\"Wouldn't you\",\"Don't you\",\"Isn't that\",\"Isn't it\",\"Wasn't he\",\"Wasn't she\",\n",
    "    \"Wasn't they\",\"Weren't we\",\"Weren't you\",\"Haven't you\",\"Hasn't he\",\"Hasn't she\",\"Hadn't you\",\"Hadn't they\",\n",
    "    \"Don't they\",\"Doesn't he\",\"Doesn't she\",\"Can't you\",\"Couldn't you\",\"Shouldn't you\",\"Wouldn't it\",\"Won't you\",\n",
    "    \"Needn't we\",\"Needn't they\",\"Mustn't you\",\"Daren't we\",\"Daren't they\",\"Was not it\",\"Are not you\",\"Did not you\",\n",
    "    \"Would not you\",\"Do not you\",\"Is not that\",\"Is not it\",\"Was not he\",\"Was not she\",\"Was not they\",\"Were not we\",\n",
    "    \"Were not you\",\"Have not you\",\"Has not he\",\"Has not she\",\"Had not you\",\"Had not they\",\"Do not they\",\"Does not he\",\n",
    "    \"Does not she\",\"Can not you\",\"Could not you\",\"Should not you\",\"Would not it\",\"Will not you\",\"Need not we\",\n",
    "    \"Need not they\",\"Must not you\",\"Dare not we\",\"Dare not they\"\"You sure?\",\"You are sure?\",\"You're sure?\",\"Sure about that?\",\n",
    "    \"Are you certain?\",\"You certain?\",\"Do you really think so?\",\"You really think that?\",\n",
    "    \"You positive?\",\"You sure about that?\",\"Confident about that?\",\"Are you convinced?\",\"You convinced?\"\n",
    "]\n",
    "\n",
    "positives_with_pronouns = [ # 判断\n",
    "    \"Was it\", \"Are you\", \"Did you\", \"Would you\",\n",
    "    \"Do you\", \"Is that\", \"Is it\", \"Was he\", \"Was she\",\n",
    "    \"Were they\", \"Were we\", \"Were you\", \"Have you\",\n",
    "    \"Has he\", \"Has she\", \"Had you\", \"Had they\",\n",
    "    \"Do they\", \"Does he\", \"Does she\", \"Can you\",\n",
    "    \"Could you\", \"Should you\", \"Would it\", \"Will you\",\n",
    "    \"Need we\", \"Need they\", \"Must you\", \"Dare we\",\n",
    "    \"Dare they\"\n",
    "]\n",
    "\n",
    "# 创建一个正则表达式模式\n",
    "pattern = '|'.join(re.escape(phrase) for phrase in negatives_with_pronouns)\n",
    "\n",
    "# 查找所有匹配的短语（不区分大小写）\n",
    "matches = re.findall(pattern, text, flags=re.IGNORECASE)\n",
    "\n",
    "# 去重并保持顺序\n",
    "unique_matches = list(dict.fromkeys(matches))\n",
    "\n",
    "# 输出结果\n",
    "print(\"Found phrases:\")\n",
    "for match in unique_matches:\n",
    "    print(match)\n"
   ]
  },
  {
   "cell_type": "code",
   "execution_count": 5,
   "metadata": {},
   "outputs": [],
   "source": [
    "question_words = [\"how\",\"what\",\"why\",\"where\",\"when\",\"who\",\"whom\",\"which\",\"whose\"] #提问，10类\n",
    "causality = ['because','so','reason' ] #因果，3类\n",
    "pause = ['wait','moment','second','minute'] #停顿，2类\n",
    "# 否定：反对（3），虚假（2），矛盾（2）\n",
    "negatives = [ #反对，3类\n",
    "    \"am not\", \"is not\", \"isn't\", \"are not\", \"aren't\", \"was not\", \"wasn't\", \"were not\", \"weren't\",\n",
    "    \"have not\", \"haven't\", \"has not\", \"hasn't\", \"had not\", \"hadn't\",\n",
    "    \"do not\", \"don't\", \"does not\", \"doesn't\", \"did not\", \"didn't\",\n",
    "    \"will not\", \"won't\", \"would not\", \"wouldn't\", \"shall not\", \"shan't\", \n",
    "    \"should not\", \"shouldn't\", \"can not\", \"cannot\", \"can't\", \"could not\", \"couldn't\", \n",
    "    \"may not\", \"might not\", \"mightn't\", \"must not\", \"mustn't\", \"ought not to\", \"oughtn't to\",\n",
    "    \"need not\", \"needn't\", \"dare not\", \"daren't\", \n",
    "    'objection', \"oppose\", \"disagree\", \"object\",\"resist\", \"protest\",  \"contest\",\"Hold it right\"\n",
    "    \"refute\", \"counter\", \"dispute\", \"debate\",\"object to\", \"be against\", \"take issue with\", \"hold out against\"\n",
    "]\n",
    "false_terms = [ #虚假，2类\n",
    "    \"false\", \"fake\", \"fictitious\", \"bogus\", \"fraudulent\",\n",
    "    \"spurious\", \"counterfeit\", \"phony\", \"sham\", \"artificial\",\n",
    "    \"unreal\", \"impostor\", \"fabricated\", \"deceptive\", \"illusory\",\n",
    "    \"pretend\", \"pseudo\",\"fabrication\", \"lie\", \"lying \",\"unlikely\",\n",
    "    \"no way\",\"impossible\", \"wrong\", \"none\", \"no\"\n",
    "]\n",
    "contr_terms=['contradict', 'contradiction', 'conflict', 'confliction'] #矛盾，2类\n",
    "questioning_terms = [ #质疑，2类\n",
    "    \"confused\", \"strange\", \"vague\", \"ridiculous\",\n",
    "    \"odd\", \"demand an explanation\", \"problem\", \"trap\",\n",
    "    \"blind spots\", \"useless\", \"unaware\", \"yet\", \"stinks\"\n",
    "    \"doubt\", \"challenge\", \"question\", \"query\",\n",
    "    \"dispute\", \"skeptical\", \"raise concerns\", \"ask\",\n",
    "    \"interrogate\", \"probe\", \"examine\", \"doubtful\",\n",
    "    \"call into question\", \"contest\", \"reconsider\", \"scrutinize\"\n",
    "]\n",
    "\n",
    "\n",
    "\n",
    "\n"
   ]
  }
 ],
 "metadata": {
  "kernelspec": {
   "display_name": "practice",
   "language": "python",
   "name": "python3"
  },
  "language_info": {
   "codemirror_mode": {
    "name": "ipython",
    "version": 3
   },
   "file_extension": ".py",
   "mimetype": "text/x-python",
   "name": "python",
   "nbconvert_exporter": "python",
   "pygments_lexer": "ipython3",
   "version": "3.10.14"
  }
 },
 "nbformat": 4,
 "nbformat_minor": 2
}
